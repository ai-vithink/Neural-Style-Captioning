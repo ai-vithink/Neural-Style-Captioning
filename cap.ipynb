{
 "cells": [
  {
   "cell_type": "code",
   "execution_count": 13,
   "metadata": {},
   "outputs": [],
   "source": [
    "from pickle import dump\n",
    "from keras.applications.vgg16 import VGG16\n",
    "from keras.preprocessing.image import load_img\n",
    "from keras.preprocessing.image import img_to_array\n",
    "from keras.applications.vgg16 import preprocess_input\n",
    "from keras.models import Model\n",
    "import os\n",
    "import string"
   ]
  },
  {
   "cell_type": "code",
   "execution_count": 2,
   "metadata": {},
   "outputs": [
    {
     "name": "stdout",
     "output_type": "stream",
     "text": [
      "Extracted Features: 8091\n"
     ]
    }
   ],
   "source": [
    "#load dataset and use features \n",
    "path=\"D:\\Program Scripts\\Machine Learning\\datasets\\Flicker8k_Dataset\\Data\"\n",
    "def extract(path):\n",
    "    model = VGG16()  #FROM https://gist.github.com/baraldilorenzo/07d7802847aaad0a35d3\n",
    "    model.layers.pop()#removes last added layer\n",
    "    model = Model(inputs=model.inputs, outputs=model.layers[-1].output)\n",
    "    features = dict()\n",
    "    files=os.listdir(path)\n",
    "    for i in range(0,len(files)-7):\n",
    "        filename = path + '/' + files[i]\n",
    "        image = load_img(filename, target_size=(224, 224))#Alex net Size\n",
    "        image = img_to_array(image)\n",
    "        image = image.reshape((1, image.shape[0], image.shape[1], image.shape[2]))\n",
    "        image = preprocess_input(image)\n",
    "        feature = model.predict(image, verbose=0)\n",
    "        image_id = files[i].split('.')[0]\n",
    "        features[image_id] = feature\n",
    "    return features\n",
    "features = extract(path)\n",
    "print('Extracted Features: %d' % len(features))\n",
    "# save to file\n",
    "dump(features, open('features.pkl', 'wb'))\n",
    "\n",
    "        \n"
   ]
  },
  {
   "cell_type": "code",
   "execution_count": 8,
   "metadata": {},
   "outputs": [],
   "source": [
    "#loading text data\n",
    "def load_text(filename):\n",
    "    file = open(filename, 'r')\n",
    "    text = file.read()\n",
    "    file.close()\n",
    "    return text\n",
    "filename=path+\"/Flickr8k.token.txt\"\n",
    "doc=load_text(filename)\n"
   ]
  },
  {
   "cell_type": "code",
   "execution_count": 23,
   "metadata": {},
   "outputs": [],
   "source": [
    "#mapping image to multiple text description in train set using image id\n",
    "def mapi(doc):\n",
    "    mapping=dict()\n",
    "    for i in doc.split(\"\\n\"):\n",
    "        tok=i.split()\n",
    "        if(len(tok)<2):\n",
    "            continue\n",
    "        image_id,image_des=tok[0],tok[1:]\n",
    "        image_id = image_id.split('.')[0]\n",
    "        image_des = ' '.join(image_des)\n",
    "        if image_id not in mapping:\n",
    "            mapping[image_id] = list()\n",
    "        mapping[image_id].append(image_des)\n",
    "    return mapping\n",
    "description=mapi(doc)"
   ]
  },
  {
   "cell_type": "code",
   "execution_count": 30,
   "metadata": {},
   "outputs": [],
   "source": [
    "#cleaning description remove puntuation and single letter char\n",
    "def clean(description):\n",
    "    table = str.maketrans('', '', string.punctuation)\n",
    "    for key, desc_list in description.items():\n",
    "        for i in range(len(desc_list)):\n",
    "            desc = desc_list[i]\n",
    "            desc = desc.split()\n",
    "            desc = [word.lower() for word in desc]\n",
    "            desc = [w.translate(table) for w in desc]\n",
    "            desc = [word for word in desc if len(word)>1]\n",
    "            desc = [word for word in desc if word.isalpha()]\n",
    "            desc_list[i] =  ' '.join(desc)"
   ]
  },
  {
   "cell_type": "code",
   "execution_count": 32,
   "metadata": {},
   "outputs": [],
   "source": [
    "# convert the loaded descriptions into a vocabulary of words\n",
    "def to_vocabulary(description):\n",
    "    all_desc = set()\n",
    "    for key in description.keys():\n",
    "        [all_desc.update(d.split()) for d in description[key]]\n",
    "    return all_desc\n",
    "vocabulary = to_vocabulary(description)\n"
   ]
  },
  {
   "cell_type": "code",
   "execution_count": 34,
   "metadata": {},
   "outputs": [],
   "source": [
    "# save descriptions to file, one per line\n",
    "def save_descriptions(descriptions, filename):\n",
    "    lines = list()\n",
    "    for key, desc_list in descriptions.items():\n",
    "        for desc in desc_list:\n",
    "            lines.append(key + ' ' + desc)\n",
    "    data = '\\n'.join(lines)\n",
    "    file = open(filename, 'w')\n",
    "    file.write(data)\n",
    "    file.close()\n",
    "save_descriptions(description, 'descriptions.txt')"
   ]
  },
  {
   "cell_type": "code",
   "execution_count": null,
   "metadata": {},
   "outputs": [],
   "source": []
  }
 ],
 "metadata": {
  "kernelspec": {
   "display_name": "Python 3",
   "language": "python",
   "name": "python3"
  },
  "language_info": {
   "codemirror_mode": {
    "name": "ipython",
    "version": 3
   },
   "file_extension": ".py",
   "mimetype": "text/x-python",
   "name": "python",
   "nbconvert_exporter": "python",
   "pygments_lexer": "ipython3",
   "version": "3.6.5"
  }
 },
 "nbformat": 4,
 "nbformat_minor": 2
}
